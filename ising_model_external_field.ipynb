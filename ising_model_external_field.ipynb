{
 "cells": [
  {
   "cell_type": "code",
   "execution_count": 1,
   "metadata": {},
   "outputs": [],
   "source": [
    "import numpy as np\n",
    "import matplotlib.pyplot as plt"
   ]
  },
  {
   "cell_type": "code",
   "execution_count": 2,
   "metadata": {},
   "outputs": [],
   "source": [
    "def initial_spins(N, temperature):\n",
    "    spin_0 = np.random.choice([1,-1])\n",
    "    if temperature <= 2.2:\n",
    "        lattice = np.random.choice([spin_0, -spin_0], size=(N,N), p=[0.9, 0.1])\n",
    "    if temperature > 2.2 and temperature <= 2.4:\n",
    "        lattice = np.random.choice([spin_0, -spin_0], size=(N,N), p=[0.7, 0.3])\n",
    "    if temperature > 2.4:\n",
    "        lattice = np.random.choice([spin_0, -spin_0], size=(N,N), p=[0.5, 0.5])\n",
    "    return lattice\n",
    "\n",
    "\n",
    "def system_energy(lattice, J, magn_field):\n",
    "#     this method is way faster the the double for loop\n",
    "\n",
    "    energy = -J * np.sum(lattice * (np.roll(lattice, -1, axis=0) + np.roll(lattice, -1, axis=1))) - magn_field * np.sum(lattice)\n",
    "    return energy\n",
    "\n",
    "def possible_energy(temperature, magn_field):\n",
    "    first_poss = np.exp(-(2*abs(magn_field))/(temperature))\n",
    "    second_poss = np.exp(-(4.0 + 2*abs(magn_field))/(temperature))\n",
    "    third_poss = np.exp(-(4.0 - 2*abs(magn_field))/(temperature))\n",
    "    fourth_poss = np.exp(-(8.0 + 2*abs(magn_field))/(temperature))\n",
    "    fifth_poss = np.exp(-(8.0 - 2*abs(magn_field))/(temperature))\n",
    "    return first_poss, second_poss, third_poss, fourth_poss, fifth_poss\n",
    "\n",
    "def monte_carlo(lattice, coupling_constant, temperature, magn_field, first_poss, second_poss, third_poss, fourth_poss, fifth_poss):\n",
    "    beta = 1/temperature\n",
    "    size = len(lattice[0,:])\n",
    "    random_x, random_y = np.random.randint(size, size=2)\n",
    "    delta_E = 2 * coupling_constant * lattice[random_x, random_y] * (lattice[(random_x-1)%size, random_y] \n",
    "                                                              + lattice[(random_x+1)%size, random_y] \n",
    "                                                              + lattice[random_x, (random_y-1)%size] \n",
    "                                                              + lattice[random_x, (random_y+1)%size]) + magn_field * lattice[random_x, random_y]\n",
    "    if delta_E <= 0:\n",
    "        lattice[random_x, random_y] *= -1\n",
    "        return lattice, delta_E\n",
    "    if delta_E == 2*abs(magn_field):\n",
    "        if np.random.rand() <= first_poss:\n",
    "            lattice[random_x, random_y] *= -1\n",
    "            return lattice, delta_E\n",
    "    if delta_E == 4 - 2*abs(magn_field):\n",
    "        if np.random.rand() <= second_poss:\n",
    "            lattice[random_x, random_y] *= -1\n",
    "            return lattice, delta_E\n",
    "    if delta_E == 4 + 2*abs(magn_field):\n",
    "        if np.random.rand() <= third_poss:\n",
    "            lattice[random_x, random_y] *= -1\n",
    "            return lattice, delta_E\n",
    "    if delta_E == 8 - 2*abs(magn_field):\n",
    "        if np.random.rand() <= fourth_poss:\n",
    "            lattice[random_x, random_y] *= -1\n",
    "            return lattice, delta_E\n",
    "    if delta_E == 8 + 2*abs(magn_field):\n",
    "        if np.random.rand() <= fifth_poss:\n",
    "            lattice[random_x, random_y] *= -1\n",
    "            return lattice, delta_E\n",
    "    \n",
    "    return lattice, 0\n",
    "\n",
    "\n",
    "\n",
    "\n",
    "\n",
    "def show_snapshot(lattice, timestep):\n",
    "    \n",
    "    plt.imshow(lattice, cmap='binary')\n",
    "    plt.title(f'Timestep {timestep}')\n",
    "    plt.show()\n",
    "\n",
    "\n",
    "def ising_simulation(size, coupling_constant, temperature, timesteps, magn_field):\n",
    "\n",
    "    lattice = initial_spins(size, temperature)\n",
    "    energies = np.zeros((timesteps))\n",
    "    magnetizations =  np.zeros((timesteps))\n",
    "    first_poss, second_poss, third_poss, fourth_poss, fifth_poss = possible_energy(temperature, magn_field) \n",
    "    if temperature >= 1.8 and temperature <= 2.6:\n",
    "        t_to_eq = 300000\n",
    "    else:\n",
    "        t_to_eq = 30000\n",
    "    for i in range(timesteps + t_to_eq):\n",
    "        lattice, delta_E = monte_carlo(lattice, coupling_constant, temperature, magn_field, first_poss, second_poss, third_poss, fourth_poss, fifth_poss) \n",
    "        if i >= t_to_eq:\n",
    "            energies[i- t_to_eq] = (system_energy(lattice, coupling_constant, magn_field)/size**2)\n",
    "            magnetizations[i - t_to_eq] = (np.sum(lattice)/size**2)\n",
    "            \n",
    "#             if i%10000 == 0:\n",
    "#                 show_snapshot(lattice, i-t_to_eq)\n",
    "                \n",
    "    return (energies), (magnetizations)\n",
    "\n",
    "def auto_correlation(magnetization, timestep):\n",
    "    xi = np.zeros(timestep)\n",
    "    for t in range(timestep):\n",
    "        xi[t] = (np.sum(magnetization[0:timestep-t]*magnetization[t:timestep])) * (timestep-t)**(-1) -  ((np.sum(magnetization[0:timestep-t]) * (timestep-t)**(-1) ) * (np.sum(magnetization[t:timestep]) * (timestep-t)**(-1)))\n",
    "        \n",
    "    return xi\n",
    "\n",
    "def corr_time(chi):\n",
    "    i = 0\n",
    "    integral = 0\n",
    "    while chi[i] >= 0:\n",
    "        integral += chi[i]/chi[0]\n",
    "        i += 1\n",
    "    return integral\n",
    "\n",
    "\n",
    "def average_chi(size, coupling_constant, temperature, timesteps, magn_field): #test\n",
    "    iterations = 10\n",
    "    average_chi = np.zeros((timesteps))\n",
    "    tau_noised = np.zeros((iterations))\n",
    "    for i in range(iterations):\n",
    "        energies, magnetizations = ising_simulation(size, coupling_constant, temperature, timesteps, magn_field)\n",
    "        chi_noised = auto_correlation(magnetizations, timesteps)\n",
    "        tau_noised[i] = corr_time(chi_noised)\n",
    "        average_chi += chi_noised\n",
    "        print('iteration ' , i)\n",
    "    return average_chi/iterations, tau_noised\n",
    "\n",
    "def average_tau(size, coupling_constant, temperature, timesteps, magn_field):\n",
    "    time_correlation, tau_noise = average_chi(size, coupling_constant, temperature, timesteps, magn_field)\n",
    "    average_tau = corr_time(time_correlation)\n",
    "    std_tau = np.std(tau_noise)\n",
    "    return average_tau, std_tau\n",
    "\n",
    "\n",
    "\n",
    "def magnetic_susceptibility(magnetization, tau, temperature, n_spins, t_max):\n",
    "    \"\"\"Computes the magnetic susceptibility per spin for equal blocks of size 16*tau\"\"\"\n",
    "    #block_length = 16*tau\n",
    "    block_length = int(16*tau)\n",
    "    beta = 1/temperature\n",
    "    magn_susc = []    \n",
    "    for j in np.arange(0, int(t_max/block_length)):\n",
    "        magn_susc.append((beta/n_spins**2)*(np.mean(magnetization[j*block_length:(j+1)*block_length]**2)-np.mean(magnetization[j*block_length:(j+1)*block_length])**2))\n",
    "    mean_magn_susc = np.mean(magn_susc)\n",
    "#     stdev_susceptibility = np.sqrt((2*tau/t_max)*(np.mean(magn_susc**2)-np.mean(magn_susc)**2))\n",
    "    stdev_susceptibility = np.std(magn_susc)\n",
    "    return mean_magn_susc, stdev_susceptibility\n",
    "\n",
    "def specific_heat(energy, tau, temperature, n_spins, t_max):\n",
    "    \"\"\"Computes the specific heat per spin for equal blocks of size 16*tau\"\"\"\n",
    "    block_length = int(16*tau)\n",
    "    k_B = 1\n",
    "    spec_heat = []\n",
    "    for h in np.arange(0, int(t_max/block_length)):\n",
    "        spec_heat.append((1/(k_B*temperature**2*n_spins**2))*(np.mean(energy[h*block_length:(h+1)*block_length]**2)-np.mean(energy[h*block_length:(h+1)*block_length])**2))\n",
    "    mean_spec_heat = np.mean(spec_heat)\n",
    "#     stdev_specific_heat = np.sqrt((2*tau/t_max)*(np.mean(spec_heat**2)-np.mean(spec_heat)**2))\n",
    "    stdev_specific_heat = np.std(spec_heat)\n",
    "    return mean_spec_heat, stdev_specific_heat\n",
    "\n",
    "def avg_magnetization_and_stdev(magnetization, tau, t_max):\n",
    "    #t_max = sweeps\n",
    "    mean_magnetization = np.mean(np.abs(magnetization)) \n",
    "    stdev_magnetization = np.sqrt((2*tau/t_max)*(np.mean(magnetization**2)-np.mean(magnetization)**2))\n",
    "    return mean_magnetization, stdev_magnetization\n",
    "                                  \n",
    "def avg_energy_and_stdev(energy, tau, t_max):\n",
    "    mean_energy = np.mean(energy)\n",
    "    stdev_energy = np.sqrt((2*tau/t_max)*(np.mean(energy**2)-np.mean(energy)**2))\n",
    "    return mean_energy, stdev_energy\n",
    "                           \n",
    "\n",
    "\n",
    "def run_simulation():\n",
    "    n_spins = 50\n",
    "    coupling_constant = 1\n",
    "    n_steps = 100000\n",
    "    temperature = np.arange(1.0, 4.1, 0.2)\n",
    "    magn_field = 0\n",
    "    \n",
    "    energies = np.zeros(len(temperature))\n",
    "    energies_error = np.zeros(len(temperature))\n",
    "    magnetizations = np.zeros(len(temperature))\n",
    "    magnetizations_error = np.zeros(len(temperature))\n",
    "    spec_heat = np.zeros(len(temperature))\n",
    "    spec_heat_error = np.zeros(len(temperature))\n",
    "    magnetic_susc = np.zeros(len(temperature))\n",
    "    magnetic_susc_error = np.zeros(len(temperature))\n",
    "    correlation_time = np.zeros(len(temperature))\n",
    "    correlation_time_error = np.zeros(len(temperature))\n",
    "    \n",
    "    for i in range(len(temperature)):\n",
    "        correlation_time[i], correlation_time_error[i] = average_tau(n_spins, coupling_constant, temperature[i], n_steps, magn_field)\n",
    "        print('hello')\n",
    "        t_max = int(10*16*correlation_time[i])\n",
    "        energy, magnetiz = ising_simulation(n_spins, coupling_constant, temperature[i], t_max, magn_field)\n",
    "        print('hello2')\n",
    "        spec_heat[i], spec_heat_error[i] = specific_heat(energy, correlation_time[i], temperature[i], n_spins, t_max)\n",
    "        magnetic_susc[i], magnetic_susc_error[i] = magnetic_susceptibility(magnetiz, correlation_time[i], temperature[i], n_spins, t_max)\n",
    "        energies[i], energies_error[i] = avg_energy_and_stdev(energy, correlation_time[i], t_max)\n",
    "        magnetizations[i], magnetizations_error[i] = avg_magnetization_and_stdev(magnetiz, correlation_time[i], t_max)\n",
    "        print(i)\n",
    "    return energies, energies_error, magnetizations, magnetizations_error, spec_heat, spec_heat_error, magnetic_susc, magnetic_susc_error, correlation_time, correlation_time_error\n",
    "\n",
    "\n",
    "def plot_corr_time(temperature, tau, tau_error):\n",
    "    plt.figure()\n",
    "    plt.errorbar(temperature, tau/2500, yerr = tau_error/2500, fmt='x:b')\n",
    "    plt.xlabel('Temperature')\n",
    "    plt.ylabel(r'$\\tau$')\n",
    "    plt.title('Auto-correlation time for H = 3')\n",
    "    plt.savefig('corr_timeH3.png')\n",
    "    plt.show()\n",
    "\n",
    "\n",
    "def plot_specific_heat(temperature, spec_heat, spec_heat_err):\n",
    "    plt.figure()\n",
    "    plt.errorbar(temperature, spec_heat, spec_heat_err, fmt='x:r')\n",
    "    plt.xlabel('Temperature')\n",
    "    plt.ylabel(r'$C$')\n",
    "    plt.title('Specific heat for H = 3')\n",
    "    plt.savefig('sp_heatH3.png')\n",
    "    plt.show()\n",
    "    \n",
    "def plot_magnetic_susc(temperature, magn_susc, magn_susc_err):\n",
    "    plt.figure()\n",
    "    plt.errorbar(temperature, magn_susc, magn_susc_err, fmt='x:g')\n",
    "    plt.xlabel('Temperature')\n",
    "    plt.ylabel(r'$\\chi_M$')\n",
    "    plt.title('Magnetic susceptibility for H = 3')\n",
    "    plt.savefig('magn_suscH3.png')\n",
    "    plt.show()\n",
    "    \n",
    "def plot_average_spin(temperature, magnetization, magnetization_err):\n",
    "    plt.figure()\n",
    "    plt.errorbar(temperature, magnetization, magnetization_err, fmt='x:c')\n",
    "    plt.xlabel('Temperature')\n",
    "    plt.ylabel(r'$m$')\n",
    "    plt.title('Mean absolute spin for H = 3')\n",
    "    plt.savefig('magnetizationH3.png')\n",
    "    plt.show()\n",
    "    \n",
    "def plot_energy(temperature, energy, energy_err):\n",
    "    plt.figure()\n",
    "    plt.errorbar(temperature, energy, energy_err, fmt='x:m')\n",
    "    plt.xlabel('Temperature')\n",
    "    plt.ylabel(r'$e$')\n",
    "    plt.title('Energy per spin for H = 3')\n",
    "    plt.savefig('energyH3.png')\n",
    "    plt.show()"
   ]
  },
  {
   "cell_type": "code",
   "execution_count": 3,
   "metadata": {},
   "outputs": [
    {
     "name": "stdout",
     "output_type": "stream",
     "text": [
      "iteration  0\n",
      "iteration  1\n",
      "iteration  2\n",
      "iteration  3\n",
      "iteration  4\n",
      "iteration  5\n",
      "iteration  6\n",
      "iteration  7\n",
      "iteration  8\n",
      "iteration  9\n",
      "hello\n",
      "hello2\n",
      "0\n",
      "iteration  0\n",
      "iteration  1\n",
      "iteration  2\n",
      "iteration  3\n",
      "iteration  4\n",
      "iteration  5\n",
      "iteration  6\n",
      "iteration  7\n",
      "iteration  8\n",
      "iteration  9\n",
      "hello\n",
      "hello2\n",
      "1\n",
      "iteration  0\n",
      "iteration  1\n",
      "iteration  2\n",
      "iteration  3\n",
      "iteration  4\n",
      "iteration  5\n",
      "iteration  6\n",
      "iteration  7\n",
      "iteration  8\n",
      "iteration  9\n",
      "hello\n",
      "hello2\n",
      "2\n",
      "iteration  0\n",
      "iteration  1\n",
      "iteration  2\n",
      "iteration  3\n",
      "iteration  4\n",
      "iteration  5\n",
      "iteration  6\n",
      "iteration  7\n",
      "iteration  8\n",
      "iteration  9\n",
      "hello\n",
      "hello2\n",
      "3\n",
      "iteration  0\n",
      "iteration  1\n",
      "iteration  2\n",
      "iteration  3\n",
      "iteration  4\n",
      "iteration  5\n",
      "iteration  6\n",
      "iteration  7\n",
      "iteration  8\n",
      "iteration  9\n",
      "hello\n",
      "hello2\n",
      "4\n",
      "iteration  0\n",
      "iteration  1\n",
      "iteration  2\n",
      "iteration  3\n",
      "iteration  4\n",
      "iteration  5\n",
      "iteration  6\n",
      "iteration  7\n",
      "iteration  8\n",
      "iteration  9\n",
      "hello\n",
      "hello2\n",
      "5\n",
      "iteration  0\n",
      "iteration  1\n",
      "iteration  2\n",
      "iteration  3\n",
      "iteration  4\n",
      "iteration  5\n",
      "iteration  6\n",
      "iteration  7\n",
      "iteration  8\n",
      "iteration  9\n",
      "hello\n",
      "hello2\n",
      "6\n",
      "iteration  0\n",
      "iteration  1\n",
      "iteration  2\n",
      "iteration  3\n",
      "iteration  4\n",
      "iteration  5\n",
      "iteration  6\n",
      "iteration  7\n",
      "iteration  8\n",
      "iteration  9\n",
      "hello\n",
      "hello2\n",
      "7\n",
      "iteration  0\n",
      "iteration  1\n",
      "iteration  2\n",
      "iteration  3\n",
      "iteration  4\n",
      "iteration  5\n",
      "iteration  6\n",
      "iteration  7\n",
      "iteration  8\n",
      "iteration  9\n",
      "hello\n",
      "hello2\n",
      "8\n",
      "iteration  0\n",
      "iteration  1\n",
      "iteration  2\n",
      "iteration  3\n",
      "iteration  4\n",
      "iteration  5\n",
      "iteration  6\n",
      "iteration  7\n",
      "iteration  8\n",
      "iteration  9\n",
      "hello\n",
      "hello2\n",
      "9\n",
      "iteration  0\n",
      "iteration  1\n",
      "iteration  2\n",
      "iteration  3\n",
      "iteration  4\n",
      "iteration  5\n",
      "iteration  6\n",
      "iteration  7\n",
      "iteration  8\n",
      "iteration  9\n",
      "hello\n",
      "hello2\n",
      "10\n",
      "iteration  0\n",
      "iteration  1\n",
      "iteration  2\n",
      "iteration  3\n",
      "iteration  4\n",
      "iteration  5\n",
      "iteration  6\n",
      "iteration  7\n",
      "iteration  8\n",
      "iteration  9\n",
      "hello\n",
      "hello2\n",
      "11\n",
      "iteration  0\n",
      "iteration  1\n",
      "iteration  2\n",
      "iteration  3\n",
      "iteration  4\n",
      "iteration  5\n",
      "iteration  6\n",
      "iteration  7\n",
      "iteration  8\n",
      "iteration  9\n",
      "hello\n",
      "hello2\n",
      "12\n",
      "iteration  0\n",
      "iteration  1\n",
      "iteration  2\n",
      "iteration  3\n",
      "iteration  4\n",
      "iteration  5\n",
      "iteration  6\n",
      "iteration  7\n",
      "iteration  8\n",
      "iteration  9\n",
      "hello\n",
      "hello2\n",
      "13\n",
      "iteration  0\n",
      "iteration  1\n",
      "iteration  2\n",
      "iteration  3\n",
      "iteration  4\n",
      "iteration  5\n",
      "iteration  6\n",
      "iteration  7\n",
      "iteration  8\n",
      "iteration  9\n",
      "hello\n",
      "hello2\n",
      "14\n",
      "iteration  0\n",
      "iteration  1\n",
      "iteration  2\n",
      "iteration  3\n",
      "iteration  4\n",
      "iteration  5\n",
      "iteration  6\n",
      "iteration  7\n",
      "iteration  8\n",
      "iteration  9\n",
      "hello\n",
      "hello2\n",
      "15\n"
     ]
    }
   ],
   "source": [
    "n_spins = 50\n",
    "coupling_constant = 1\n",
    "n_steps = 100000\n",
    "temperature = 1.4\n",
    "magn_field = 3\n",
    "\n",
    "energies, energies_error, magnetizations, magnetizations_error, spec_heat, spec_heat_error, magnetic_susc, magnetic_susc_error, correlation_time, correlation_time_error = run_simulation()"
   ]
  },
  {
   "cell_type": "code",
   "execution_count": 4,
   "metadata": {},
   "outputs": [],
   "source": [
    "temperature = np.arange(1, 4.1, 0.2)"
   ]
  },
  {
   "cell_type": "code",
   "execution_count": 5,
   "metadata": {},
   "outputs": [
    {
     "data": {
      "image/png": "[encoded data removed]",
      "text/plain": [
       "<Figure size 432x288 with 1 Axes>"
      ]
     },
     "metadata": {
      "needs_background": "light"
     },
     "output_type": "display_data"
    }
   ],
   "source": [
    "plot_average_spin(temperature, magnetizations, magnetizations_error)"
   ]
  },
  {
   "cell_type": "code",
   "execution_count": 6,
   "metadata": {},
   "outputs": [
    {
     "name": "stdout",
     "output_type": "stream",
     "text": [
      "[0.99859702 0.9920415  0.9764251  0.91942662 0.57909647 0.0967534\n",
      " 0.05928672 0.04403389 0.0399545  0.02880714 0.022792   0.02901346\n",
      " 0.02462141 0.02376661 0.02670988 0.02289034]\n",
      "[0.00013235 0.00032784 0.00070507 0.0019904  0.01280093 0.01306101\n",
      " 0.00793501 0.00571515 0.00578611 0.00415178 0.00324871 0.00390052\n",
      " 0.00349259 0.00328001 0.00349428 0.00314985]\n"
     ]
    }
   ],
   "source": [
    "print(magnetizations)\n",
    "print(magnetizations_error)"
   ]
  },
  {
   "cell_type": "code",
   "execution_count": 7,
   "metadata": {},
   "outputs": [
    {
     "data": {
      "image/png": "[encoded data removed]",
      "text/plain": [
       "<Figure size 432x288 with 1 Axes>"
      ]
     },
     "metadata": {
      "needs_background": "light"
     },
     "output_type": "display_data"
    }
   ],
   "source": [
    "plot_corr_time(temperature, correlation_time, correlation_time_error)"
   ]
  },
  {
   "cell_type": "code",
   "execution_count": 8,
   "metadata": {},
   "outputs": [
    {
     "name": "stdout",
     "output_type": "stream",
     "text": [
      "[ 2365.10140394  2529.8717649   4396.26752786 11781.64047695\n",
      " 15369.03419717 19725.33911132  9388.13759428  6295.25132983\n",
      "  5059.67100504  4309.50271591  3570.68819086  3314.04528144\n",
      "  3640.90047577  3024.42544605  2589.00307238  2747.39501937]\n",
      "[1537.67859854 1000.70387526 1795.31062198 6962.63303814 8664.98533052\n",
      " 8328.73107034 6630.58637737 2742.12634238 4296.52127111 1422.6201545\n",
      " 2425.8681455   564.62362977 2057.66150478  996.38858597 1268.29148895\n",
      " 1619.00446429]\n"
     ]
    }
   ],
   "source": [
    "print(correlation_time)\n",
    "print(correlation_time_error)"
   ]
  },
  {
   "cell_type": "code",
   "execution_count": 9,
   "metadata": {},
   "outputs": [
    {
     "data": {
      "image/png": "[encoded data removed]",
      "text/plain": [
       "<Figure size 432x288 with 1 Axes>"
      ]
     },
     "metadata": {
      "needs_background": "light"
     },
     "output_type": "display_data"
    }
   ],
   "source": [
    "plot_energy(temperature, energies, energies_error)"
   ]
  },
  {
   "cell_type": "code",
   "execution_count": 10,
   "metadata": {},
   "outputs": [
    {
     "name": "stdout",
     "output_type": "stream",
     "text": [
      "[-1.99457128 -1.97097834 -1.92060118 -1.77715224 -1.37478287 -0.99595351\n",
      " -0.81162326 -0.68582237 -0.60223154 -0.52764724 -0.47063831 -0.4309986\n",
      " -0.38825457 -0.35481044 -0.33089978 -0.30578889]\n",
      "[0.00050639 0.00112248 0.00200558 0.00372964 0.0070897  0.00488182\n",
      " 0.0042001  0.00411705 0.00397911 0.00358588 0.0036803  0.00363586\n",
      " 0.00348422 0.00333105 0.00336725 0.00329079]\n"
     ]
    }
   ],
   "source": [
    "print(energies)\n",
    "print(energies_error)"
   ]
  },
  {
   "cell_type": "code",
   "execution_count": 11,
   "metadata": {},
   "outputs": [
    {
     "data": {
      "image/png": "[encoded data removed]",
      "text/plain": [
       "<Figure size 432x288 with 1 Axes>"
      ]
     },
     "metadata": {
      "needs_background": "light"
     },
     "output_type": "display_data"
    }
   ],
   "source": [
    "plot_magnetic_susc(temperature, magnetic_susc, magnetic_susc_error)"
   ]
  },
  {
   "cell_type": "code",
   "execution_count": 12,
   "metadata": {},
   "outputs": [
    {
     "name": "stdout",
     "output_type": "stream",
     "text": [
      "[5.14005181e-10 2.47745051e-09 9.73240600e-09 6.83609472e-08\n",
      " 1.32376624e-06 2.10700399e-06 6.52715390e-07 3.07854455e-07\n",
      " 2.76508460e-07 1.63452480e-07 8.98356059e-08 1.23257836e-07\n",
      " 1.01834589e-07 8.23703458e-08 8.27860755e-08 7.31515923e-08]\n",
      "[2.91152847e-10 7.49398584e-10 4.38040596e-09 2.74031137e-08\n",
      " 8.76262595e-07 1.16783735e-06 4.07198233e-07 1.05698970e-07\n",
      " 1.48993754e-07 6.61283362e-08 3.46436258e-08 3.78738558e-08\n",
      " 2.48267587e-08 2.95980532e-08 3.51758605e-08 2.14699028e-08]\n"
     ]
    }
   ],
   "source": [
    "print(magnetic_susc)\n",
    "print(magnetic_susc_error)"
   ]
  },
  {
   "cell_type": "code",
   "execution_count": 13,
   "metadata": {},
   "outputs": [
    {
     "data": {
      "image/png": "[encoded data removed]",
      "text/plain": [
       "<Figure size 432x288 with 1 Axes>"
      ]
     },
     "metadata": {
      "needs_background": "light"
     },
     "output_type": "display_data"
    }
   ],
   "source": [
    "plot_specific_heat(temperature, spec_heat, spec_heat_error)"
   ]
  },
  {
   "cell_type": "code",
   "execution_count": 14,
   "metadata": {},
   "outputs": [
    {
     "name": "stdout",
     "output_type": "stream",
     "text": [
      "[7.54662839e-09 2.42190738e-08 5.70628772e-08 1.56498368e-07\n",
      " 3.85903773e-07 1.69084587e-07 1.10218724e-07 9.00170134e-08\n",
      " 7.00865479e-08 4.98561618e-08 4.51668342e-08 3.85556404e-08\n",
      " 3.24843246e-08 2.63607131e-08 2.41043394e-08 2.08020985e-08]\n",
      "[4.20332844e-09 7.04205706e-09 1.93219056e-08 3.25449151e-08\n",
      " 1.32804653e-07 3.14054388e-08 3.08523433e-08 2.43332034e-08\n",
      " 1.68513452e-08 9.34510212e-09 1.26166147e-08 9.34567105e-09\n",
      " 6.93738384e-09 5.48146890e-09 7.30682570e-09 4.29799435e-09]\n"
     ]
    }
   ],
   "source": [
    "print(spec_heat)\n",
    "print(spec_heat_error)"
   ]
  }
 ],
 "metadata": {
  "kernelspec": {
   "display_name": "Python 3",
   "language": "python",
   "name": "python3"
  },
  "language_info": {
   "codemirror_mode": {
    "name": "ipython",
    "version": 3
   },
   "file_extension": ".py",
   "mimetype": "text/x-python",
   "name": "python",
   "nbconvert_exporter": "python",
   "pygments_lexer": "ipython3",
   "version": "3.7.3"
  }
 },
 "nbformat": 4,
 "nbformat_minor": 2
}
