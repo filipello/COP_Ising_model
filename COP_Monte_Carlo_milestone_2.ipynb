{
 "cells": [
  {
   "cell_type": "code",
   "execution_count": 1,
   "metadata": {},
   "outputs": [],
   "source": [
    "import numpy as np\n",
    "import matplotlib.pyplot as plt"
   ]
  },
  {
   "cell_type": "code",
   "execution_count": 2,
   "metadata": {},
   "outputs": [],
   "source": [
    "#create random initial spins in an NxN array?\n",
    "#Need to take into account the position of the spins\n",
    "\n",
    "#Pick one random spin and flip it\n",
    "#Calculate energy difference between the old and the new state\n",
    "#If E_new > E_old: keep new state\n",
    "#If E_new < E_old: calculate q = p(x')/p(x).\n",
    "#Draw random number: if random number lower than q: accept new state"
   ]
  },
  {
   "cell_type": "code",
   "execution_count": 3,
   "metadata": {},
   "outputs": [],
   "source": [
    "def initial_spins(N):\n",
    "    spin_0 = np.random.choice([1,-1])\n",
    "    lattice = np.random.choice([spin_0, -spin_0], size=(N,N), p=[0.8, 0.2])\n",
    "    \n",
    "    return lattice\n",
    "\n",
    "\n",
    "\n",
    "# def system_energy(lattice, coupling_constant):\n",
    "#     L = len(lattice[0,:])\n",
    "#     ham = 0\n",
    "#     for i in range(L):\n",
    "#         for j in range(L):\n",
    "#             h = 0\n",
    "#             h = lattice[i,j]*lattice[(i-1)%L,j-1] + lattice[i,j]*lattice[(i-1)%L,(j+1)%L] + lattice[i,j]*lattice[(i+1)%L,(j+1)%L] + lattice[i,j]*lattice[(i+1)%L,(j-1)%L]\n",
    "#             ham += h\n",
    "#     total_energy = -coupling_constant*ham\n",
    "#     return total_energy\n",
    "\n",
    "\n",
    "def system_energy(lattice, J):\n",
    "#     this method is way faster the the double for loop\n",
    "\n",
    "    energy = -J * np.sum(lattice * (np.roll(lattice, -1, axis=0) + np.roll(lattice, -1, axis=1)))\n",
    "    return energy\n",
    "\n",
    "\n",
    "\n",
    "\n",
    "def energy_difference(old_lattice, new_lattice):\n",
    "    delta_energy = total_hamiltonian(new_lattice) - total_hamiltonian(old_lattice)\n",
    "    return delta_energy\n",
    "\n",
    "\n",
    "def monte_carlo(lattice, coupling_constant, temperature):\n",
    "    beta = 1/temperature\n",
    "    size = len(lattice[0,:])\n",
    "    random_x, random_y = np.random.randint(size, size=2)\n",
    "    delta_E = 2 * coupling_constant * lattice[random_x, random_y] * (lattice[(random_x-1)%size, random_y] \n",
    "                                                              + lattice[(random_x+1)%size, random_y] \n",
    "                                                              + lattice[random_x, (random_y-1)%size] \n",
    "                                                              + lattice[random_x, (random_y+1)%size])\n",
    "    if delta_E <= 0:\n",
    "        lattice[random_x, random_y] *= -1\n",
    "        return lattice, delta_E\n",
    "    if np.random.rand() < np.exp(-delta_E * beta):\n",
    "        lattice[random_x, random_y] *= -1\n",
    "        return lattice, delta_E\n",
    "    else:\n",
    "        return lattice, 0\n",
    "\n",
    "def show_snapshot(lattice, timestep):\n",
    "    \n",
    "    plt.imshow(lattice, cmap='binary')\n",
    "    plt.title(f'Timestep {timestep}')\n",
    "    plt.show()\n",
    "\n",
    "\n",
    "def ising_simulation(size, coupling_constant, temperature, timesteps):\n",
    "#     two metropolis algorithm starting from the same initial lattice\n",
    "    lattice = initial_spins(size)\n",
    "    energies = []\n",
    "    magnetizations = []\n",
    "    if temperature >= 1.8 and temperature <= 2.8:\n",
    "        t_to_eq = 300000\n",
    "    else:\n",
    "        t_to_eq = 100000\n",
    "    for i in range(timesteps + t_to_eq):\n",
    "        lattice, delta_E = monte_carlo(lattice, coupling_constant, temperature) \n",
    "        if i >= t_to_eq:\n",
    "            energies.append(system_energy(lattice, coupling_constant)/size**2)\n",
    "            magnetizations.append(np.sum(lattice)/size**2)\n",
    "            \n",
    "#             if i%1000 == 0:\n",
    "#                 show_snapshot(lattice, i-t_to_eq)\n",
    "                \n",
    "    return np.array(energies), np.array(magnetizations)\n",
    "\n",
    "def auto_correlation(magnetization, timestep):\n",
    "    xi = np.zeros(timestep)\n",
    "    for t in range(timestep):\n",
    "        xi[t] = (np.sum(magnetization[0:timestep-t]*magnetization[t:timestep])) * (timestep-t)**(-1) -  ((np.sum(magnetization[0:timestep-t]) * (timestep-t)**(-1) ) * (np.sum(magnetization[t:timestep]) * (timestep-t)**(-1)))\n",
    "        \n",
    "    return xi\n",
    "\n",
    "def corr_time(chi):\n",
    "    i = 0\n",
    "    integral = 0\n",
    "    while chi[i] >= 0:\n",
    "        integral += chi[i]/chi[0]\n",
    "        i += 1\n",
    "    return integral\n",
    "\n",
    "\n",
    "# def average_chi(size, coupling_constant, temperature, timesteps):\n",
    "#     iterations = 10\n",
    "#     average_chi = np.zeros((timesteps))\n",
    "#     tau_noised = np.zeros((timesteps))\n",
    "#     for i in range(iterations):\n",
    "#         energies, magnetizations = ising_simulation(size, coupling_constant, temperature, timesteps)\n",
    "#         chi_noised = auto_correlation(magnetizations, timesteps)\n",
    "#         tau_noised[i] = corr_time(chi_noised)\n",
    "#         average_chi += chi_noised\n",
    "#         print(i)\n",
    "#     tau_std = np.std(tau_noised)\n",
    "#     return average_chi/iterations, tau_std\n",
    "\n",
    "\n",
    "def average_chi(size, coupling_constant, temperature, timesteps): #test\n",
    "    iterations = 15\n",
    "    average_chi = np.zeros((timesteps))\n",
    "    tau_noised = np.zeros((iterations))\n",
    "    for i in range(iterations):\n",
    "        energies, magnetizations = ising_simulation(size, coupling_constant, temperature, timesteps)\n",
    "        chi_noised = auto_correlation(magnetizations, timesteps)\n",
    "        tau_noised[i] = corr_time(chi_noised)\n",
    "        average_chi += chi_noised\n",
    "    return average_chi/iterations, tau_noised\n",
    "\n",
    "def average_tau(size, coupling_constant, temperature, timesteps):\n",
    "    time_correlation, tau_noise = average_chi(size, coupling_constant, temperature, timesteps)\n",
    "    average_tau = corr_time(time_correlation)\n",
    "    std_tau = np.std(tau_noise)\n",
    "    return average_tau, std_tau\n",
    "\n",
    "\n",
    "def tau_plot(size, coupling_constant, timesteps):\n",
    "    temperature = np.arange(1,4.1,0.2)\n",
    "    tau_plot = np.zeros((len(temperature)))\n",
    "    tau_error = np.zeros(len(temperature))\n",
    "    for i in range(len(temperature)):\n",
    "        tau_plot[i], tau_error[i] = average_tau(size, coupling_constant, temperature[i], timesteps)\n",
    "        print(i, tau_error[i])\n",
    "    return tau_plot, tau_error\n",
    "\n",
    "\n",
    "def magnetic_susceptibility(magnetization, tau, temperature, n_spins, t_max):\n",
    "    \"\"\"Computes the magnetic susceptibility per spin for equal blocks of size 16*tau\"\"\"\n",
    "    #block_length = 16*tau\n",
    "    block_length = int(16*tau)\n",
    "    beta = 1/temperature\n",
    "    magn_susc = []    \n",
    "    for j in np.arange(0, int(t_max/block_length)):\n",
    "        magn_susc.append((beta/n_spins**2)*(np.mean(magnetization[j*block_length:(j+1)*block_length]**2)-np.mean(magnetization[j*block_length:(j+1)*block_length])**2))\n",
    "    return np.array(magn_susc)\n",
    "\n",
    "def specific_heat(energy, tau, temperature, n_spins, t_max):\n",
    "    \"\"\"Computes the specific heat per spin for equal blocks of size 16*tau\"\"\"\n",
    "    block_length = int(16*tau)\n",
    "    k_B = 1\n",
    "    spec_heat = []\n",
    "    for h in np.arange(0, np.int(t_max/block_length)):\n",
    "        spec_heat.append((1/(k_B*temperature**2*n_spins**2))*(np.mean(energy[h*block_length:(h+1)*block_length]**2)-np.mean(energy[h*block_length:(h+1)*block_length])**2))\n",
    "    return np.array(spec_heat)\n",
    "\n",
    "def avg_magnetization_and_stdev(magnetization, tau, t_max):\n",
    "    #t_max = sweeps\n",
    "    mean_magnetization = np.mean(np.abs(magnetization)) \n",
    "    stdev_magnetization = np.sqrt((2*tau/t_max)*(np.mean(magnetization**2)-np.mean(magnetization)**2))\n",
    "    return mean_magnetization, stdev_magnetization\n",
    "                                  \n",
    "def avg_energy_and_stdev(energy, tau, t_max):\n",
    "    mean_energy = np.mean(energy)\n",
    "    stdev_energy = np.sqrt((2*tau/t_max)*(np.mean(energy**2)-np.mean(energy)**2))\n",
    "    return mean_energy, stdev_energy\n",
    "                           \n",
    "def avg_magn_susceptibility_and_stdev(magn_susceptibility, tau, t_max):\n",
    "    mean_susceptibility = np.mean(magn_susceptibility)\n",
    "    stdev_susceptibility = np.sqrt((2*tau/t_max)*(np.mean(magn_susceptibility**2)-np.mean(magn_susceptibility)**2))\n",
    "    return mean_susceptibility, stdev_susceptibility\n",
    "\n",
    "def avg_specific_heat_and_stdev(specific_heat, tau, t_max):\n",
    "    mean_specific_heat = np.mean(specific_heat)\n",
    "    stdev_specific_heat = np.sqrt((2*tau/t_max)*(np.mean(specific_heat**2)-np.mean(specific_heat)**2))\n",
    "    return mean_specific_heat, stdev_specific_heat"
   ]
  },
  {
   "cell_type": "code",
   "execution_count": 4,
   "metadata": {},
   "outputs": [],
   "source": [
    "#Define constants\n",
    "n_spins = 50\n",
    "coupling_constant = 1\n",
    "temperature = 3.2\n",
    "n_steps = 100000"
   ]
  },
  {
   "cell_type": "code",
   "execution_count": 5,
   "metadata": {},
   "outputs": [],
   "source": [
    "# Run the simulation\n",
    "# energies, magnetizations = ising_simulation(n_spins, coupling_constant, temperature, n_steps)\n",
    "\n",
    "tau, tau_std = average_tau(n_spins, coupling_constant, temperature, n_steps)\n",
    "t_max = int(20*16*tau)"
   ]
  },
  {
   "cell_type": "code",
   "execution_count": 6,
   "metadata": {},
   "outputs": [],
   "source": [
    "# chi = auto_correlation(magnetizations, n_steps)\n",
    "energy, magnetization = ising_simulation(n_spins, coupling_constant, temperature, t_max)"
   ]
  },
  {
   "cell_type": "code",
   "execution_count": 7,
   "metadata": {
    "scrolled": true
   },
   "outputs": [],
   "source": [
    "# # Plot the results\n",
    "# fig, (ax1, ax2) = plt.subplots(1, 2, figsize=(12, 4))\n",
    "# ax1.plot(energies)\n",
    "# ax1.plot(energies2)\n",
    "# ax1.set_xlabel(\"Step\")\n",
    "# ax1.set_ylabel(\"Energy\")\n",
    "# ax2.plot(magnetizations)\n",
    "# ax2.plot(magnetizations2)\n",
    "# ax2.set_xlabel(\"Step\")\n",
    "# ax2.set_ylabel(\"Magnetization\")\n",
    "# ax2.set_ylim(-1,1)\n",
    "# plt.show()"
   ]
  },
  {
   "cell_type": "code",
   "execution_count": 8,
   "metadata": {
    "scrolled": true
   },
   "outputs": [],
   "source": [
    "# plt.plot(chi/chi[0])\n",
    "# plt.xlabel('Sweeps')\n",
    "# plt.ylabel('Auto-correlation')\n",
    "# # plt.ylim(-0.5, 1.1)"
   ]
  },
  {
   "cell_type": "code",
   "execution_count": 9,
   "metadata": {},
   "outputs": [],
   "source": [
    "m_susc = magnetic_susceptibility(magnetization, tau, temperature, n_spins, t_max)"
   ]
  },
  {
   "cell_type": "code",
   "execution_count": 10,
   "metadata": {},
   "outputs": [
    {
     "name": "stdout",
     "output_type": "stream",
     "text": [
      "[2.03542646e-07 2.12896885e-07 3.05168117e-07 3.71502361e-07\n",
      " 1.97006380e-07 2.44640304e-07 3.94897279e-07 2.83048021e-07\n",
      " 4.78378218e-07 2.32646812e-07 2.54331541e-07 3.69585737e-07\n",
      " 2.25642240e-07 5.32918026e-07 2.71653994e-07 1.61605489e-07\n",
      " 1.03507779e-07 2.16133956e-07 2.38995076e-07 2.40915497e-07]\n",
      "2.7695081781166615e-07\n",
      "1.0252925162961898e-07\n"
     ]
    }
   ],
   "source": [
    "# for i in range(len(chi)):\n",
    "#     if chi[i]<0:\n",
    "#         print(chi[i], i)\n",
    "#         break\n",
    "print(m_susc)\n",
    "print(np.mean(m_susc))\n",
    "print(np.std(m_susc))"
   ]
  },
  {
   "cell_type": "code",
   "execution_count": 11,
   "metadata": {},
   "outputs": [],
   "source": [
    "# tau = corr_time(av_correlatio)\n",
    "\n",
    "# print(tau/n_spins**2)"
   ]
  },
  {
   "cell_type": "code",
   "execution_count": 12,
   "metadata": {},
   "outputs": [],
   "source": [
    "# temp = np.arange(1,4.1,0.2)\n",
    "# print(temp)"
   ]
  },
  {
   "cell_type": "code",
   "execution_count": 13,
   "metadata": {},
   "outputs": [],
   "source": [
    "# plt.errorbar(temp, t_plot/n_spins**2, yerr = t_plot/(np.sqrt(10)*n_spins**2), marker = 's', linestyle = ':')\n",
    "# plt.xlabel('Temperature')\n",
    "# plt.ylabel('Correlation time')\n",
    "# plt.savefig('tau_vs_temperature.png')"
   ]
  },
  {
   "cell_type": "code",
   "execution_count": 14,
   "metadata": {},
   "outputs": [],
   "source": [
    "# print(t_error/t_plot)"
   ]
  },
  {
   "cell_type": "code",
   "execution_count": 15,
   "metadata": {},
   "outputs": [],
   "source": [
    "# print(temp)"
   ]
  },
  {
   "cell_type": "code",
   "execution_count": null,
   "metadata": {},
   "outputs": [],
   "source": []
  }
 ],
 "metadata": {
  "kernelspec": {
   "display_name": "Python 3 (ipykernel)",
   "language": "python",
   "name": "python3"
  },
  "language_info": {
   "codemirror_mode": {
    "name": "ipython",
    "version": 3
   },
   "file_extension": ".py",
   "mimetype": "text/x-python",
   "name": "python",
   "nbconvert_exporter": "python",
   "pygments_lexer": "ipython3",
   "version": "3.9.6"
  }
 },
 "nbformat": 4,
 "nbformat_minor": 2
}
