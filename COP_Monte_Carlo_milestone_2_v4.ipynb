{
 "cells": [
  {
   "cell_type": "code",
   "execution_count": 2,
   "metadata": {},
   "outputs": [],
   "source": [
    "import numpy as np\n",
    "import matplotlib.pyplot as plt"
   ]
  },
  {
   "cell_type": "code",
   "execution_count": null,
   "metadata": {},
   "outputs": [],
   "source": [
    "#create random initial spins in an NxN array\n",
    "#Need to take into account the position of the spins\n",
    "\n",
    "#Pick one random spin and flip it\n",
    "#Calculate energy difference between the old and the new state\n",
    "#If E_new > E_old: keep new state\n",
    "#If E_new < E_old: calculate q = p(x')/p(x).\n",
    "#Draw random number: if random number lower than q: accept new state"
   ]
  },
  {
   "cell_type": "code",
   "execution_count": 8,
   "metadata": {},
   "outputs": [],
   "source": [
    "def initial_spins(N):\n",
    "    spin_0 = np.random.choice([1,-1])\n",
    "    lattice = np.random.choice([spin_0, -spin_0], size=(N,N), p=[0.8, 0.2])\n",
    "    \n",
    "    return lattice\n",
    "\n",
    "\n",
    "\n",
    "# def system_energy(lattice, coupling_constant):\n",
    "#     L = len(lattice[0,:])\n",
    "#     ham = 0\n",
    "#     for i in range(L):\n",
    "#         for j in range(L):\n",
    "#             h = 0\n",
    "#             h = lattice[i,j]*lattice[(i-1)%L,j-1] + lattice[i,j]*lattice[(i-1)%L,(j+1)%L] + lattice[i,j]*lattice[(i+1)%L,(j+1)%L] + lattice[i,j]*lattice[(i+1)%L,(j-1)%L]\n",
    "#             ham += h\n",
    "#     total_energy = -coupling_constant*ham\n",
    "#     return total_energy\n",
    "\n",
    "\n",
    "def system_energy(lattice, J):\n",
    "#     this method is way faster the the double for loop\n",
    "\n",
    "    energy = -J * np.sum(lattice * (np.roll(lattice, -1, axis=0) + np.roll(lattice, -1, axis=1)))\n",
    "    return energy\n",
    "\n",
    "\n",
    "\n",
    "\n",
    "def energy_difference(old_lattice, new_lattice):\n",
    "    delta_energy = total_hamiltonian(new_lattice) - total_hamiltonian(old_lattice)\n",
    "    return delta_energy\n",
    "\n",
    "\n",
    "def monte_carlo(lattice, coupling_constant, temperature):\n",
    "    beta = 1/temperature\n",
    "    size = len(lattice[0,:])\n",
    "    random_x, random_y = np.random.randint(size, size=2)\n",
    "    delta_E = 2 * coupling_constant * lattice[random_x, random_y] * (lattice[(random_x-1)%size, random_y] \n",
    "                                                              + lattice[(random_x+1)%size, random_y] \n",
    "                                                              + lattice[random_x, (random_y-1)%size] \n",
    "                                                              + lattice[random_x, (random_y+1)%size])\n",
    "    if delta_E <= 0:\n",
    "        lattice[random_x, random_y] *= -1\n",
    "        return lattice, delta_E\n",
    "    if np.random.rand() < np.exp(-delta_E * beta):\n",
    "        lattice[random_x, random_y] *= -1\n",
    "        return lattice, delta_E\n",
    "    else:\n",
    "        return lattice, 0\n",
    "\n",
    "def show_snapshot(lattice, timestep):\n",
    "    \n",
    "    plt.imshow(lattice, cmap='binary')\n",
    "    plt.title(f'Timestep {timestep}')\n",
    "    plt.show()\n",
    "\n",
    "\n",
    "def ising_simulation(size, coupling_constant, temperature, timesteps):\n",
    "#     two metropolis algorithm starting from the same initial lattice\n",
    "    lattice = initial_spins(size)\n",
    "    lattice2 = np.copy(lattice)\n",
    "    energies = []\n",
    "    energies2 = []\n",
    "    magnetizations = []\n",
    "    magnetizations2 = []\n",
    "    t_to_eq = 50000\n",
    "    for i in range(timesteps + t_to_eq):\n",
    "        lattice, delta_E = monte_carlo(lattice, coupling_constant, temperature) \n",
    "        lattice2, delta_E2 = monte_carlo(lattice2, coupling_constant, temperature)\n",
    "        if i >= t_to_eq:\n",
    "            energies.append(system_energy(lattice, coupling_constant)/size**2)\n",
    "            magnetizations.append(np.sum(lattice)/size**2)\n",
    "            energies2.append(system_energy(lattice2, coupling_constant)/size**2)\n",
    "            magnetizations2.append(np.sum(lattice2)/size**2)\n",
    "#             if i%1000 == 0:\n",
    "#                 show_snapshot(lattice, i-t_to_eq)\n",
    "    return np.array(energies), np.array(magnetizations), np.array(energies2), np.array(magnetizations2)\n",
    "\n",
    "def auto_correlation(magnetization, timestep):\n",
    "    corr_function = np.zeros(timestep)\n",
    "    for t in range(timestep):\n",
    "        corr_function[t] = (np.sum(magnetization[0:timestep-t]*magnetization[t:timestep])) * (timestep-t)**(-1) - (np.sum(magnetization[0:timestep-t])*np.sum(magnetization[t:timestep])) * (timestep-t)**(-2) \n",
    "        \n",
    "    return corr_function\n",
    "\n",
    "# def auto_correlation(magnetization, timestep):\n",
    "#     corr_function = np.zeros(timestep)\n",
    "#     for t in range(timestep):\n",
    "#         corr_function[t] = (np.sum(magnetization[0:timestep-t]*magnetization[t:timestep])) * (timestep-t)**(-1) - (np.sum(magnetization[0:timestep-t])*np.sum(magnetization[t:timestep])) * (timestep-t)**(-2) \n",
    "        \n",
    "#     return corr_function\n",
    "\n",
    "def corr_time(chi):\n",
    "    i = 0\n",
    "    integral = 0\n",
    "    while chi[i] >= 0:\n",
    "        integral += chi[i]/chi[0]\n",
    "        i += 1\n",
    "    return integral\n",
    "\n",
    "def magnetic_susceptibility(magnetization, tau, temperature, n_spins, t_max):\n",
    "    \"\"\"Computes the magnetic susceptibility per spin for equal blocks of size 16*tau\"\"\"\n",
    "    #block_length = 16*tau\n",
    "    block_length = int(16*tau)\n",
    "    beta = 1/temperature\n",
    "    magn_susc = []    \n",
    "    for j in np.arange(0, np.int(t_max/block_length)):\n",
    "        magn_susc.append((beta/n_spins**2)*(np.mean(magnetization[j*block_length:(j+1)*block_length]**2)-np.mean(magnetization[j*block_length:(j+1)*block_length])**2))\n",
    "    return np.array(magn_susc)\n",
    "\n",
    "def specific_heat(energy, tau, temperature, n_spins, t_max):\n",
    "    \"\"\"Computes the specific heat per spin for equal blocks of size 16*tau\"\"\"\n",
    "    block_length = int(16*tau)\n",
    "    k_B = 1\n",
    "    spec_heat = []\n",
    "    for h in np.arange(0, np.int(t_max/block_length)):\n",
    "        spec_heat.append((1/(k_B*temperature**2*n_spins**2))*(np.mean(energy[h*block_length:(h+1)*block_length]**2)-np.mean(energy[h*block_length:(h+1)*block_length])**2))\n",
    "    return np.array(spec_heat)\n",
    "\n",
    "def avg_magnetization_and_stdev(magnetization, tau, t_max):\n",
    "    #t_max = sweeps\n",
    "    mean_magnetization = np.mean(np.abs(magnetization)) \n",
    "    stdev_magnetization = np.sqrt((2*tau/t_max)*(np.mean(magnetization**2)-np.mean(magnetization)**2))\n",
    "    return mean_magnetization, stdev_magnetization\n",
    "                                  \n",
    "def avg_energy_and_stdev(energy, tau, t_max):\n",
    "    mean_energy = np.mean(energy)\n",
    "    stdev_energy = np.sqrt((2*tau/t_max)*(np.mean(energy**2)-np.mean(energy)**2))\n",
    "    return mean_energy, stdev_energy\n",
    "                           \n",
    "def avg_magn_susceptibility_and_stdev(magn_susceptibility, tau, t_max):\n",
    "    mean_susceptibility = np.mean(magn_susceptibility)\n",
    "    stdev_susceptibility = np.sqrt((2*tau/t_max)*(np.mean(magn_susceptibility**2)-np.mean(magn_susceptibility)**2))\n",
    "    return mean_susceptibility, stdev_susceptibility\n",
    "\n",
    "def avg_specific_heat_and_stdev(specific_heat, tau, t_max):\n",
    "    mean_specific_heat = np.mean(specific_heat)\n",
    "    stdev_specific_heat = np.sqrt((2*tau/t_max)*(np.mean(specific_heat**2)-np.mean(specific_heat)**2))\n",
    "    return mean_specific_heat, stdev_specific_heat"
   ]
  },
  {
   "cell_type": "code",
   "execution_count": 13,
   "metadata": {},
   "outputs": [],
   "source": [
    "#Define constants\n",
    "n_spins = 10\n",
    "coupling_constant = 1\n",
    "temperature = np.arange(1,4.2,0.2)\n",
    "n_steps = 100000\n",
    "sweeps = int(n_steps/n_spins**2)\n",
    "\n",
    "all_tau = []\n",
    "avg_magn_per_spin = []\n",
    "stdev_magn_per_spin = []\n",
    "avg_energy_per_spin = []\n",
    "stdev_energy_per_spin = []\n",
    "avg_magn_susc_per_spin = []\n",
    "stdev_magn_susc_per_spin = []\n",
    "avg_spec_heat_per_spin = []\n",
    "stdev_spec_heat_per_spin = []"
   ]
  },
  {
   "cell_type": "code",
   "execution_count": 12,
   "metadata": {},
   "outputs": [
    {
     "name": "stdout",
     "output_type": "stream",
     "text": [
      "1.6697471245424669\n",
      "158.70607485437176\n"
     ]
    },
    {
     "name": "stderr",
     "output_type": "stream",
     "text": [
      "C:\\Users\\Annet\\Anaconda3\\lib\\site-packages\\numpy\\core\\fromnumeric.py:3118: RuntimeWarning: Mean of empty slice.\n",
      "  out=out, **kwargs)\n",
      "C:\\Users\\Annet\\Anaconda3\\lib\\site-packages\\numpy\\core\\_methods.py:85: RuntimeWarning: invalid value encountered in double_scalars\n",
      "  ret = ret.dtype.type(ret / rcount)\n"
     ]
    }
   ],
   "source": [
    "for temp in temperature:\n",
    "    #Energies and magnetizations\n",
    "    energies_all, magnetizations_all, energies2_all, magnetizations2_all = ising_simulation(n_spins, coupling_constant, temp, n_steps)\n",
    "    energies, magnetizations = energies_all[::n_spins**2], magnetizations_all[::n_spins**2]\n",
    "    energies2, magnetizations2 = energies2_all[::n_spins**2], magnetizations2_all[::n_spins**2]\n",
    "    total_energies, total_energies2 = energies*n_spins**2, energies2*n_spins**2\n",
    "    total_magnetizations, total_magnetizations2 = magnetizations*n_spins**2, magnetizations2*n_spins**2\n",
    "    \n",
    "    #Auto-correlation\n",
    "    chi = auto_correlation(magnetizations, sweeps)\n",
    "    tau = corr_time(chi)\n",
    "    \n",
    "    #Magnetic susceptibility and specific heat\n",
    "    magn_susceptibility = magnetic_susceptibility(total_magnetizations, tau, temperature, n_spins, sweeps)\n",
    "    spec_heat = specific_heat(total_energies, tau, temperature, n_spins, sweeps)\n",
    "    \n",
    "    #Means and standard deviations\n",
    "    mean_magn, stdev_magn = avg_magnetization_and_stdev(magnetizations, tau, sweeps)\n",
    "    mean_energy, stdev_energy = avg_energy_and_stdev(energies, tau, sweeps)\n",
    "    mean_susc, stdev_susc = avg_magn_susceptibility_and_stdev(magn_susceptibility, tau, sweeps)\n",
    "    mean_sp_heat, stdev_sp_heat = avg_specific_heat_and_stdev(spec_heat, tau, sweeps)\n",
    "    \n",
    "    all_tau.append(tau)\n",
    "    avg_magn_per_spin.append(mean_magn)\n",
    "    stdev_magn_per_spin.append(stdev_magn)\n",
    "    avg_energy_per_spin.append(mean_energy)\n",
    "    stdev_energy_per_spin.append(stdev_energy)\n",
    "    avg_magn_susc_per_spin.append(mean_susc)\n",
    "    stdev_magn_susc_per_spin.append(stdev_susc)\n",
    "    avg_spec_heat_per_spin.append(mean_sp_heat)\n",
    "    stdev_spec_heat_per_spin.append(stdev_sp_heat)"
   ]
  },
  {
   "cell_type": "code",
   "execution_count": null,
   "metadata": {},
   "outputs": [],
   "source": [
    "# Run the simulation\n",
    "energies_all, magnetizations_all, energies2_all, magnetizations2_all = ising_simulation(n_spins, coupling_constant, temperature, n_steps)"
   ]
  },
  {
   "cell_type": "code",
   "execution_count": null,
   "metadata": {},
   "outputs": [],
   "source": [
    "#Only energies and magnetizations for every sweep\n",
    "energies, magnetizations = energies_all[::n_spins**2], magnetizations_all[::n_spins**2]\n",
    "energies2, magnetizations2 = energies2_all[::n_spins**2], magnetizations2_all[::n_spins**2]"
   ]
  },
  {
   "cell_type": "code",
   "execution_count": null,
   "metadata": {},
   "outputs": [],
   "source": [
    "#Sometimes quantity per spin needed, sometimes total\n",
    "total_energies = energies*n_spins**2\n",
    "total_energies2 = energies2*n_spins**2\n",
    "total_magnetizations = magnetizations*n_spins**2\n",
    "total_magnetizations2 = magnetizations2*n_spins**2"
   ]
  },
  {
   "cell_type": "code",
   "execution_count": null,
   "metadata": {},
   "outputs": [],
   "source": [
    "#chi = auto_correlation(magnetizations, n_steps)\n",
    "chi = auto_correlation(magnetizations, sweeps)"
   ]
  },
  {
   "cell_type": "code",
   "execution_count": null,
   "metadata": {},
   "outputs": [],
   "source": [
    "# Plot the results\n",
    "fig, (ax1, ax2) = plt.subplots(1, 2, figsize=(12, 4))\n",
    "ax1.plot(np.arange(0,len(energies)), energies)\n",
    "ax1.plot(np.arange(0,len(energies2)), energies2)\n",
    "ax1.set_xlabel(\"Sweep\")\n",
    "ax1.set_ylabel(\"Energy per spin\")\n",
    "ax2.plot(np.arange(0,len(magnetizations)), magnetizations)\n",
    "ax2.plot(np.arange(0,len(magnetizations2)), magnetizations2)\n",
    "ax2.set_xlabel(\"Sweep\")\n",
    "ax2.set_ylabel(\"Magnetization per spin\")\n",
    "plt.show()"
   ]
  },
  {
   "cell_type": "code",
   "execution_count": null,
   "metadata": {},
   "outputs": [],
   "source": [
    "plt.plot(np.arange(0,len(chi)), chi/chi[0])\n",
    "plt.xlabel('Sweep')\n",
    "plt.ylabel(r'$\\chi(t)/\\chi(0)$')\n",
    "plt.title(r'Auto-correlation $\\chi(t)/\\chi(0)$')"
   ]
  },
  {
   "cell_type": "code",
   "execution_count": null,
   "metadata": {},
   "outputs": [],
   "source": [
    "for i in range(len(chi)):\n",
    "    if chi[i]<0:\n",
    "        print(chi[i], i)\n",
    "        break"
   ]
  },
  {
   "cell_type": "code",
   "execution_count": null,
   "metadata": {},
   "outputs": [],
   "source": [
    "tau = corr_time(chi)\n",
    "\n",
    "print(tau)"
   ]
  },
  {
   "cell_type": "code",
   "execution_count": 5,
   "metadata": {},
   "outputs": [
    {
     "ename": "NameError",
     "evalue": "name 'magnetic_susceptibility' is not defined",
     "output_type": "error",
     "traceback": [
      "\u001b[1;31m---------------------------------------------------------------------------\u001b[0m",
      "\u001b[1;31mNameError\u001b[0m                                 Traceback (most recent call last)",
      "\u001b[1;32m<ipython-input-5-acef51cb755e>\u001b[0m in \u001b[0;36m<module>\u001b[1;34m\u001b[0m\n\u001b[0;32m      1\u001b[0m \u001b[1;31m#magnetic susceptibility and specific heat\u001b[0m\u001b[1;33m\u001b[0m\u001b[1;33m\u001b[0m\u001b[1;33m\u001b[0m\u001b[0m\n\u001b[1;32m----> 2\u001b[1;33m \u001b[0mmagn_susceptibility\u001b[0m \u001b[1;33m=\u001b[0m \u001b[0mmagnetic_susceptibility\u001b[0m\u001b[1;33m(\u001b[0m\u001b[0mtotal_magnetizations\u001b[0m\u001b[1;33m,\u001b[0m \u001b[0mtau\u001b[0m\u001b[1;33m,\u001b[0m \u001b[0mtemperature\u001b[0m\u001b[1;33m,\u001b[0m \u001b[0mn_spins\u001b[0m\u001b[1;33m,\u001b[0m \u001b[0msweeps\u001b[0m\u001b[1;33m)\u001b[0m\u001b[1;33m\u001b[0m\u001b[1;33m\u001b[0m\u001b[0m\n\u001b[0m\u001b[0;32m      3\u001b[0m \u001b[0mspec_heat\u001b[0m \u001b[1;33m=\u001b[0m \u001b[0mspecific_heat\u001b[0m\u001b[1;33m(\u001b[0m\u001b[0mtotal_energies\u001b[0m\u001b[1;33m,\u001b[0m \u001b[0mtau\u001b[0m\u001b[1;33m,\u001b[0m \u001b[0mtemperature\u001b[0m\u001b[1;33m,\u001b[0m \u001b[0mn_spins\u001b[0m\u001b[1;33m,\u001b[0m \u001b[0msweeps\u001b[0m\u001b[1;33m)\u001b[0m\u001b[1;33m\u001b[0m\u001b[1;33m\u001b[0m\u001b[0m\n\u001b[0;32m      4\u001b[0m \u001b[1;33m\u001b[0m\u001b[0m\n\u001b[0;32m      5\u001b[0m \u001b[0mmagn_susceptibility2\u001b[0m \u001b[1;33m=\u001b[0m \u001b[0mmagnetic_susceptibility\u001b[0m\u001b[1;33m(\u001b[0m\u001b[0mtotal_magnetizations2\u001b[0m\u001b[1;33m,\u001b[0m \u001b[0mtau\u001b[0m\u001b[1;33m,\u001b[0m \u001b[0mtemperature\u001b[0m\u001b[1;33m,\u001b[0m \u001b[0mn_spins\u001b[0m\u001b[1;33m,\u001b[0m \u001b[0msweeps\u001b[0m\u001b[1;33m)\u001b[0m\u001b[1;33m\u001b[0m\u001b[1;33m\u001b[0m\u001b[0m\n",
      "\u001b[1;31mNameError\u001b[0m: name 'magnetic_susceptibility' is not defined"
     ]
    }
   ],
   "source": [
    "#magnetic susceptibility and specific heat\n",
    "magn_susceptibility = magnetic_susceptibility(total_magnetizations, tau, temperature, n_spins, sweeps)\n",
    "spec_heat = specific_heat(total_energies, tau, temperature, n_spins, sweeps)\n",
    "\n",
    "magn_susceptibility2 = magnetic_susceptibility(total_magnetizations2, tau, temperature, n_spins, sweeps)\n",
    "spec_heat2 = specific_heat(total_energies2, tau, temperature, n_spins, sweeps)"
   ]
  },
  {
   "cell_type": "code",
   "execution_count": null,
   "metadata": {},
   "outputs": [],
   "source": [
    "print(\"system 1\")\n",
    "mean_magn, stdev_magn = avg_magnetization_and_stdev(magnetizations, tau, sweeps)\n",
    "print(mean_magn, stdev_magn)\n",
    "mean_energy, stdev_energy = avg_energy_and_stdev(energies, tau, sweeps)\n",
    "print(mean_energy, stdev_energy)\n",
    "\n",
    "mean_susc, stdev_susc = avg_magn_susceptibility_and_stdev(magn_susceptibility, tau, sweeps)\n",
    "print(mean_susc, stdev_susc)\n",
    "mean_sp_heat, stdev_sp_heat = avg_specific_heat_and_stdev(spec_heat, tau, sweeps)\n",
    "print(mean_sp_heat, stdev_sp_heat)\n",
    "\n",
    "\n",
    "print(\"system 2\")\n",
    "mean_magn2, stdev_magn2 = avg_magnetization_and_stdev(magnetizations2, tau, sweeps)\n",
    "print(mean_magn2, stdev_magn2)\n",
    "mean_energy2, stdev_energy2 = avg_energy_and_stdev(energies2, tau, sweeps)\n",
    "print(mean_energy2, stdev_energy2)\n",
    "\n",
    "mean_susc2, stdev_susc2 = avg_magn_susceptibility_and_stdev(magn_susceptibility2, tau, sweeps)\n",
    "print(mean_susc2, stdev_susc2)\n",
    "mean_sp_heat2, stdev_sp_heat2 = avg_specific_heat_and_stdev(spec_heat2, tau, sweeps)\n",
    "print(mean_sp_heat2, stdev_sp_heat2)"
   ]
  }
 ],
 "metadata": {
  "kernelspec": {
   "display_name": "Python 3",
   "language": "python",
   "name": "python3"
  },
  "language_info": {
   "codemirror_mode": {
    "name": "ipython",
    "version": 3
   },
   "file_extension": ".py",
   "mimetype": "text/x-python",
   "name": "python",
   "nbconvert_exporter": "python",
   "pygments_lexer": "ipython3",
   "version": "3.7.3"
  }
 },
 "nbformat": 4,
 "nbformat_minor": 2
}
