{
 "cells": [
  {
   "cell_type": "code",
   "execution_count": 1,
   "metadata": {},
   "outputs": [],
   "source": [
    "import numpy as np\n",
    "import matplotlib.pyplot as plt"
   ]
  },
  {
   "cell_type": "code",
   "execution_count": 2,
   "metadata": {},
   "outputs": [],
   "source": [
    "#create random initial spins in an NxN array?\n",
    "#Need to take into account the position of the spins\n",
    "\n",
    "#Pick one random spin and flip it\n",
    "#Calculate energy difference between the old and the new state\n",
    "#If E_new > E_old: keep new state\n",
    "#If E_new < E_old: calculate q = p(x')/p(x).\n",
    "#Draw random number: if random number lower than q: accept new state"
   ]
  },
  {
   "cell_type": "code",
   "execution_count": 3,
   "metadata": {},
   "outputs": [],
   "source": [
    "def initial_spins(N):\n",
    "    lattice = np.random.choice([1], size=(N,N))\n",
    "    \n",
    "    return lattice\n",
    "\n",
    "\n",
    "\n",
    "# def system_energy(lattice, coupling_constant):\n",
    "#     L = len(lattice[0,:])\n",
    "#     ham = 0\n",
    "#     for i in range(L):\n",
    "#         for j in range(L):\n",
    "#             h = 0\n",
    "#             h = lattice[i,j]*lattice[(i-1)%L,j-1] + lattice[i,j]*lattice[(i-1)%L,(j+1)%L] + lattice[i,j]*lattice[(i+1)%L,(j+1)%L] + lattice[i,j]*lattice[(i+1)%L,(j-1)%L]\n",
    "#             ham += h\n",
    "#     total_energy = -coupling_constant*ham\n",
    "#     return total_energy\n",
    "\n",
    "\n",
    "def system_energy(lattice, J):\n",
    "#     this method is way faster the the double for loop\n",
    "\n",
    "    energy = -J * np.sum(lattice * (np.roll(lattice, -1, axis=0) + np.roll(lattice, -1, axis=1)))\n",
    "    return energy\n",
    "\n",
    "\n",
    "\n",
    "\n",
    "def energy_difference(old_lattice, new_lattice):\n",
    "    delta_energy = total_hamiltonian(new_lattice) - total_hamiltonian(old_lattice)\n",
    "    return delta_energy\n",
    "\n",
    "\n",
    "def monte_carlo(lattice, coupling_constant, temperature):\n",
    "    beta = 1/temperature\n",
    "    size = len(lattice[0,:])\n",
    "    random_x, random_y = np.random.randint(size, size=2)\n",
    "    delta_E = 2 * coupling_constant * lattice[random_x, random_y] * (lattice[(random_x-1)%size, random_y] \n",
    "                                                              + lattice[(random_x+1)%size, random_y] \n",
    "                                                              + lattice[random_x, (random_y-1)%size] \n",
    "                                                              + lattice[random_x, (random_y+1)%size])\n",
    "    if delta_E <= 0:\n",
    "        lattice[random_x, random_y] *= -1\n",
    "        return lattice, delta_E\n",
    "    if np.random.rand() < np.exp(-delta_E * beta):\n",
    "        lattice[random_x, random_y] *= -1\n",
    "        return lattice, delta_E\n",
    "    else:\n",
    "        return lattice, 0\n",
    "\n",
    "def show_snapshot(lattice, timestep):\n",
    "    \n",
    "    plt.imshow(lattice, cmap='binary')\n",
    "    plt.title(f'Timestep {timestep}')\n",
    "    plt.show()\n",
    "\n",
    "\n",
    "def ising_simulation(size, coupling_constant, temperature, timesteps):\n",
    "#     two metropolis algorithm starting from the same initial lattice\n",
    "    lattice = initial_spins(size)\n",
    "    lattice2 = np.copy(lattice)\n",
    "    energies = []\n",
    "    energies2 = []\n",
    "    magnetizations = []\n",
    "    magnetizations2 = []\n",
    "    t_to_eq = 10000\n",
    "    for i in range(timesteps + t_to_eq):\n",
    "        lattice, delta_E = monte_carlo(lattice, coupling_constant, temperature) \n",
    "        lattice2, delta_E2 = monte_carlo(lattice2, coupling_constant, temperature)\n",
    "        if i >= t_to_eq:\n",
    "            energies.append(system_energy(lattice, coupling_constant)/size**2)\n",
    "            magnetizations.append(np.sum(lattice)/size**2)\n",
    "            energies2.append(system_energy(lattice2, coupling_constant)/size**2)\n",
    "            magnetizations2.append(np.sum(lattice2)/size**2)\n",
    "#             if i%1000 == 0:\n",
    "#                 show_snapshot(lattice, i-t_to_eq)\n",
    "                \n",
    "    return np.array(energies), np.array(magnetizations), np.array(energies2), np.array(magnetizations2)\n",
    "\n",
    "def auto_correlation(magnetization, timestep):\n",
    "    xi = np.zeros(timestep)\n",
    "    for t in range(timestep):\n",
    "        xi_element = 0\n",
    "        for t_prime in range(timestep-t):\n",
    "            xi_element += 1/(timestep-t)*magnetization[t_prime]*magnetization[t_prime+t] -( 1/(timestep-t)*magnetization[t_prime] * 1/(timestep-t)*magnetization[t_prime+t] )\n",
    "        xi[t] = xi_element\n",
    "    return xi"
   ]
  },
  {
   "cell_type": "code",
   "execution_count": 4,
   "metadata": {},
   "outputs": [],
   "source": [
    "#Define constants\n",
    "n_spins = 10\n",
    "coupling_constant = 1\n",
    "temperature = 3\n",
    "n_steps = 50000"
   ]
  },
  {
   "cell_type": "code",
   "execution_count": 5,
   "metadata": {},
   "outputs": [],
   "source": [
    "# Run the simulation\n",
    "energies, magnetizations, energies2, magnetizations2 = ising_simulation(n_spins, coupling_constant, temperature, n_steps)"
   ]
  },
  {
   "cell_type": "code",
   "execution_count": null,
   "metadata": {},
   "outputs": [],
   "source": [
    "chi = auto_correlation(magnetizations, n_steps)"
   ]
  },
  {
   "cell_type": "code",
   "execution_count": null,
   "metadata": {
    "scrolled": true
   },
   "outputs": [],
   "source": [
    "# Plot the results\n",
    "fig, (ax1, ax2) = plt.subplots(1, 2, figsize=(10, 4))\n",
    "ax1.plot(energies)\n",
    "ax1.plot(energies2)\n",
    "ax1.set_xlabel(\"Step\")\n",
    "ax1.set_ylabel(\"Energy\")\n",
    "ax2.plot(chi)\n",
    "# ax2.plot(magnetizations2)\n",
    "ax2.set_xlabel(\"Step\")\n",
    "ax2.set_ylabel(\"Correlation\")\n",
    "plt.show()"
   ]
  }
 ],
 "metadata": {
  "kernelspec": {
   "display_name": "Python 3",
   "language": "python",
   "name": "python3"
  },
  "language_info": {
   "codemirror_mode": {
    "name": "ipython",
    "version": 3
   },
   "file_extension": ".py",
   "mimetype": "text/x-python",
   "name": "python",
   "nbconvert_exporter": "python",
   "pygments_lexer": "ipython3",
   "version": "3.7.3"
  }
 },
 "nbformat": 4,
 "nbformat_minor": 2
}
