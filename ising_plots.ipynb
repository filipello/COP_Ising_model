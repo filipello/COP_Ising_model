{
 "cells": [
  {
   "cell_type": "code",
   "execution_count": 15,
   "id": "28d8255d-ae54-4922-b45b-73d8190948a8",
   "metadata": {
    "tags": []
   },
   "outputs": [],
   "source": [
    "import pandas as pd \n",
    "import numpy as np\n",
    "import ising_functions as fn\n",
    "\n",
    "df = pd.read_csv('ising_measure.zip')\n"
   ]
  },
  {
   "cell_type": "code",
   "execution_count": 16,
   "id": "95621543-4c83-48e4-803c-9a55fdf72479",
   "metadata": {
    "tags": []
   },
   "outputs": [
    {
     "data": {
      "text/html": [
       "<div>\n",
       "<style scoped>\n",
       "    .dataframe tbody tr th:only-of-type {\n",
       "        vertical-align: middle;\n",
       "    }\n",
       "\n",
       "    .dataframe tbody tr th {\n",
       "        vertical-align: top;\n",
       "    }\n",
       "\n",
       "    .dataframe thead th {\n",
       "        text-align: right;\n",
       "    }\n",
       "</style>\n",
       "<table border=\"1\" class=\"dataframe\">\n",
       "  <thead>\n",
       "    <tr style=\"text-align: right;\">\n",
       "      <th></th>\n",
       "      <th>Unnamed: 0</th>\n",
       "      <th>temperature</th>\n",
       "      <th>energy</th>\n",
       "      <th>error en.</th>\n",
       "      <th>av spin</th>\n",
       "      <th>error spin</th>\n",
       "      <th>spec. heat</th>\n",
       "      <th>error spec. heat</th>\n",
       "      <th>magn. susc</th>\n",
       "      <th>error magn. susc</th>\n",
       "      <th>tau</th>\n",
       "      <th>error tau</th>\n",
       "    </tr>\n",
       "  </thead>\n",
       "  <tbody>\n",
       "    <tr>\n",
       "      <th>0</th>\n",
       "      <td>0</td>\n",
       "      <td>1.0</td>\n",
       "      <td>-1.997041</td>\n",
       "      <td>0.000356</td>\n",
       "      <td>0.999242</td>\n",
       "      <td>0.000092</td>\n",
       "      <td>3.249745e-09</td>\n",
       "      <td>1.703194e-09</td>\n",
       "      <td>2.215833e-10</td>\n",
       "      <td>1.156759e-10</td>\n",
       "      <td>2590.447996</td>\n",
       "      <td>780.295651</td>\n",
       "    </tr>\n",
       "    <tr>\n",
       "      <th>1</th>\n",
       "      <td>1</td>\n",
       "      <td>1.2</td>\n",
       "      <td>-1.987704</td>\n",
       "      <td>0.000690</td>\n",
       "      <td>0.996789</td>\n",
       "      <td>0.000189</td>\n",
       "      <td>9.835641e-09</td>\n",
       "      <td>3.987879e-09</td>\n",
       "      <td>8.650190e-10</td>\n",
       "      <td>4.335151e-10</td>\n",
       "      <td>3075.199097</td>\n",
       "      <td>1545.995353</td>\n",
       "    </tr>\n",
       "    <tr>\n",
       "      <th>2</th>\n",
       "      <td>2</td>\n",
       "      <td>1.4</td>\n",
       "      <td>-1.968592</td>\n",
       "      <td>0.001130</td>\n",
       "      <td>0.991611</td>\n",
       "      <td>0.000316</td>\n",
       "      <td>1.837925e-08</td>\n",
       "      <td>7.498371e-09</td>\n",
       "      <td>2.011330e-09</td>\n",
       "      <td>9.695059e-10</td>\n",
       "      <td>3355.107330</td>\n",
       "      <td>1024.684392</td>\n",
       "    </tr>\n",
       "    <tr>\n",
       "      <th>3</th>\n",
       "      <td>3</td>\n",
       "      <td>1.6</td>\n",
       "      <td>-1.928761</td>\n",
       "      <td>0.001731</td>\n",
       "      <td>0.979729</td>\n",
       "      <td>0.000567</td>\n",
       "      <td>3.425687e-08</td>\n",
       "      <td>1.291781e-08</td>\n",
       "      <td>5.767829e-09</td>\n",
       "      <td>2.443193e-09</td>\n",
       "      <td>2369.979581</td>\n",
       "      <td>1573.455240</td>\n",
       "    </tr>\n",
       "    <tr>\n",
       "      <th>4</th>\n",
       "      <td>4</td>\n",
       "      <td>1.8</td>\n",
       "      <td>-1.858855</td>\n",
       "      <td>0.002717</td>\n",
       "      <td>0.956780</td>\n",
       "      <td>0.001061</td>\n",
       "      <td>6.598499e-08</td>\n",
       "      <td>1.701768e-08</td>\n",
       "      <td>1.677495e-08</td>\n",
       "      <td>8.208414e-09</td>\n",
       "      <td>6254.614899</td>\n",
       "      <td>4306.101480</td>\n",
       "    </tr>\n",
       "    <tr>\n",
       "      <th>5</th>\n",
       "      <td>5</td>\n",
       "      <td>2.0</td>\n",
       "      <td>-1.744858</td>\n",
       "      <td>0.004013</td>\n",
       "      <td>0.908872</td>\n",
       "      <td>0.002291</td>\n",
       "      <td>9.741612e-08</td>\n",
       "      <td>2.974328e-08</td>\n",
       "      <td>4.483928e-08</td>\n",
       "      <td>2.367079e-08</td>\n",
       "      <td>7217.710422</td>\n",
       "      <td>3999.904401</td>\n",
       "    </tr>\n",
       "    <tr>\n",
       "      <th>6</th>\n",
       "      <td>6</td>\n",
       "      <td>2.2</td>\n",
       "      <td>-1.559425</td>\n",
       "      <td>0.005056</td>\n",
       "      <td>0.803412</td>\n",
       "      <td>0.003927</td>\n",
       "      <td>1.387034e-07</td>\n",
       "      <td>4.497536e-08</td>\n",
       "      <td>1.343081e-07</td>\n",
       "      <td>3.791453e-08</td>\n",
       "      <td>8603.938609</td>\n",
       "      <td>3268.809575</td>\n",
       "    </tr>\n",
       "    <tr>\n",
       "      <th>7</th>\n",
       "      <td>7</td>\n",
       "      <td>2.4</td>\n",
       "      <td>-1.205835</td>\n",
       "      <td>0.005837</td>\n",
       "      <td>0.241895</td>\n",
       "      <td>0.020010</td>\n",
       "      <td>1.226862e-07</td>\n",
       "      <td>2.452736e-08</td>\n",
       "      <td>7.338844e-07</td>\n",
       "      <td>3.962434e-07</td>\n",
       "      <td>13139.523855</td>\n",
       "      <td>4426.208879</td>\n",
       "    </tr>\n",
       "    <tr>\n",
       "      <th>8</th>\n",
       "      <td>8</td>\n",
       "      <td>2.6</td>\n",
       "      <td>-1.028060</td>\n",
       "      <td>0.004634</td>\n",
       "      <td>0.077471</td>\n",
       "      <td>0.009988</td>\n",
       "      <td>8.918456e-08</td>\n",
       "      <td>1.934938e-08</td>\n",
       "      <td>6.989987e-07</td>\n",
       "      <td>3.406708e-07</td>\n",
       "      <td>13936.839943</td>\n",
       "      <td>4883.401413</td>\n",
       "    </tr>\n",
       "    <tr>\n",
       "      <th>9</th>\n",
       "      <td>9</td>\n",
       "      <td>2.8</td>\n",
       "      <td>-0.910268</td>\n",
       "      <td>0.004422</td>\n",
       "      <td>0.072402</td>\n",
       "      <td>0.009491</td>\n",
       "      <td>7.317111e-08</td>\n",
       "      <td>9.228716e-09</td>\n",
       "      <td>6.894187e-07</td>\n",
       "      <td>3.913108e-07</td>\n",
       "      <td>11937.175859</td>\n",
       "      <td>5564.235161</td>\n",
       "    </tr>\n",
       "    <tr>\n",
       "      <th>10</th>\n",
       "      <td>10</td>\n",
       "      <td>3.0</td>\n",
       "      <td>-0.821990</td>\n",
       "      <td>0.004518</td>\n",
       "      <td>0.053472</td>\n",
       "      <td>0.007265</td>\n",
       "      <td>6.920437e-08</td>\n",
       "      <td>1.059806e-08</td>\n",
       "      <td>4.307912e-07</td>\n",
       "      <td>1.130704e-07</td>\n",
       "      <td>10269.522008</td>\n",
       "      <td>7611.878222</td>\n",
       "    </tr>\n",
       "    <tr>\n",
       "      <th>11</th>\n",
       "      <td>11</td>\n",
       "      <td>3.2</td>\n",
       "      <td>-0.746661</td>\n",
       "      <td>0.004028</td>\n",
       "      <td>0.059078</td>\n",
       "      <td>0.008178</td>\n",
       "      <td>4.839666e-08</td>\n",
       "      <td>4.428371e-09</td>\n",
       "      <td>5.550857e-07</td>\n",
       "      <td>2.616063e-07</td>\n",
       "      <td>11992.288665</td>\n",
       "      <td>6153.999725</td>\n",
       "    </tr>\n",
       "    <tr>\n",
       "      <th>12</th>\n",
       "      <td>12</td>\n",
       "      <td>3.4</td>\n",
       "      <td>-0.685016</td>\n",
       "      <td>0.003805</td>\n",
       "      <td>0.046225</td>\n",
       "      <td>0.006281</td>\n",
       "      <td>3.906292e-08</td>\n",
       "      <td>6.942619e-09</td>\n",
       "      <td>3.172825e-07</td>\n",
       "      <td>1.218673e-07</td>\n",
       "      <td>8772.729067</td>\n",
       "      <td>3132.300295</td>\n",
       "    </tr>\n",
       "    <tr>\n",
       "      <th>13</th>\n",
       "      <td>13</td>\n",
       "      <td>3.6</td>\n",
       "      <td>-0.634219</td>\n",
       "      <td>0.003737</td>\n",
       "      <td>0.041177</td>\n",
       "      <td>0.005841</td>\n",
       "      <td>3.365452e-08</td>\n",
       "      <td>7.337929e-09</td>\n",
       "      <td>2.393268e-07</td>\n",
       "      <td>1.505963e-07</td>\n",
       "      <td>7313.525208</td>\n",
       "      <td>5228.322790</td>\n",
       "    </tr>\n",
       "    <tr>\n",
       "      <th>14</th>\n",
       "      <td>14</td>\n",
       "      <td>3.8</td>\n",
       "      <td>-0.595342</td>\n",
       "      <td>0.003817</td>\n",
       "      <td>0.036126</td>\n",
       "      <td>0.005029</td>\n",
       "      <td>3.148262e-08</td>\n",
       "      <td>2.544944e-09</td>\n",
       "      <td>1.969797e-07</td>\n",
       "      <td>5.838513e-08</td>\n",
       "      <td>12491.989918</td>\n",
       "      <td>7707.086989</td>\n",
       "    </tr>\n",
       "    <tr>\n",
       "      <th>15</th>\n",
       "      <td>15</td>\n",
       "      <td>4.0</td>\n",
       "      <td>-0.554543</td>\n",
       "      <td>0.004018</td>\n",
       "      <td>0.036535</td>\n",
       "      <td>0.005034</td>\n",
       "      <td>2.821513e-08</td>\n",
       "      <td>3.756490e-09</td>\n",
       "      <td>1.519563e-07</td>\n",
       "      <td>7.979239e-08</td>\n",
       "      <td>5331.034728</td>\n",
       "      <td>3665.139822</td>\n",
       "    </tr>\n",
       "  </tbody>\n",
       "</table>\n",
       "</div>"
      ],
      "text/plain": [
       "    Unnamed: 0  temperature    energy  error en.   av spin  error spin  \\\n",
       "0            0          1.0 -1.997041   0.000356  0.999242    0.000092   \n",
       "1            1          1.2 -1.987704   0.000690  0.996789    0.000189   \n",
       "2            2          1.4 -1.968592   0.001130  0.991611    0.000316   \n",
       "3            3          1.6 -1.928761   0.001731  0.979729    0.000567   \n",
       "4            4          1.8 -1.858855   0.002717  0.956780    0.001061   \n",
       "5            5          2.0 -1.744858   0.004013  0.908872    0.002291   \n",
       "6            6          2.2 -1.559425   0.005056  0.803412    0.003927   \n",
       "7            7          2.4 -1.205835   0.005837  0.241895    0.020010   \n",
       "8            8          2.6 -1.028060   0.004634  0.077471    0.009988   \n",
       "9            9          2.8 -0.910268   0.004422  0.072402    0.009491   \n",
       "10          10          3.0 -0.821990   0.004518  0.053472    0.007265   \n",
       "11          11          3.2 -0.746661   0.004028  0.059078    0.008178   \n",
       "12          12          3.4 -0.685016   0.003805  0.046225    0.006281   \n",
       "13          13          3.6 -0.634219   0.003737  0.041177    0.005841   \n",
       "14          14          3.8 -0.595342   0.003817  0.036126    0.005029   \n",
       "15          15          4.0 -0.554543   0.004018  0.036535    0.005034   \n",
       "\n",
       "      spec. heat  error spec. heat    magn. susc  error magn. susc  \\\n",
       "0   3.249745e-09      1.703194e-09  2.215833e-10      1.156759e-10   \n",
       "1   9.835641e-09      3.987879e-09  8.650190e-10      4.335151e-10   \n",
       "2   1.837925e-08      7.498371e-09  2.011330e-09      9.695059e-10   \n",
       "3   3.425687e-08      1.291781e-08  5.767829e-09      2.443193e-09   \n",
       "4   6.598499e-08      1.701768e-08  1.677495e-08      8.208414e-09   \n",
       "5   9.741612e-08      2.974328e-08  4.483928e-08      2.367079e-08   \n",
       "6   1.387034e-07      4.497536e-08  1.343081e-07      3.791453e-08   \n",
       "7   1.226862e-07      2.452736e-08  7.338844e-07      3.962434e-07   \n",
       "8   8.918456e-08      1.934938e-08  6.989987e-07      3.406708e-07   \n",
       "9   7.317111e-08      9.228716e-09  6.894187e-07      3.913108e-07   \n",
       "10  6.920437e-08      1.059806e-08  4.307912e-07      1.130704e-07   \n",
       "11  4.839666e-08      4.428371e-09  5.550857e-07      2.616063e-07   \n",
       "12  3.906292e-08      6.942619e-09  3.172825e-07      1.218673e-07   \n",
       "13  3.365452e-08      7.337929e-09  2.393268e-07      1.505963e-07   \n",
       "14  3.148262e-08      2.544944e-09  1.969797e-07      5.838513e-08   \n",
       "15  2.821513e-08      3.756490e-09  1.519563e-07      7.979239e-08   \n",
       "\n",
       "             tau    error tau  \n",
       "0    2590.447996   780.295651  \n",
       "1    3075.199097  1545.995353  \n",
       "2    3355.107330  1024.684392  \n",
       "3    2369.979581  1573.455240  \n",
       "4    6254.614899  4306.101480  \n",
       "5    7217.710422  3999.904401  \n",
       "6    8603.938609  3268.809575  \n",
       "7   13139.523855  4426.208879  \n",
       "8   13936.839943  4883.401413  \n",
       "9   11937.175859  5564.235161  \n",
       "10  10269.522008  7611.878222  \n",
       "11  11992.288665  6153.999725  \n",
       "12   8772.729067  3132.300295  \n",
       "13   7313.525208  5228.322790  \n",
       "14  12491.989918  7707.086989  \n",
       "15   5331.034728  3665.139822  "
      ]
     },
     "execution_count": 16,
     "metadata": {},
     "output_type": "execute_result"
    }
   ],
   "source": [
    "df"
   ]
  },
  {
   "cell_type": "code",
   "execution_count": 17,
   "id": "83504d33-fec6-46a8-8b26-8c0a8d6ae2c1",
   "metadata": {
    "tags": []
   },
   "outputs": [
    {
     "data": {
      "image/png": "[encoded data removed]",
      "text/plain": [
       "<Figure size 432x288 with 1 Axes>"
      ]
     },
     "metadata": {
      "needs_background": "light"
     },
     "output_type": "display_data"
    }
   ],
   "source": [
    "fn.plot_corr_time(df['temperature'], df['tau'], df['error tau'])"
   ]
  },
  {
   "cell_type": "code",
   "execution_count": 18,
   "id": "9c789eca-e8d7-453b-817d-697d9d39d216",
   "metadata": {
    "tags": []
   },
   "outputs": [
    {
     "data": {
      "image/png": "[encoded data removed]",
      "text/plain": [
       "<Figure size 432x288 with 1 Axes>"
      ]
     },
     "metadata": {
      "needs_background": "light"
     },
     "output_type": "display_data"
    }
   ],
   "source": [
    "fn.plot_average_spin(df['temperature'], df['av spin'], df['error spin'])"
   ]
  },
  {
   "cell_type": "code",
   "execution_count": 19,
   "id": "6f2b0e4b-49e2-42e7-b7b1-76cfd3c183ff",
   "metadata": {
    "tags": []
   },
   "outputs": [
    {
     "data": {
      "image/png": "[encoded data removed]",
      "text/plain": [
       "<Figure size 432x288 with 1 Axes>"
      ]
     },
     "metadata": {
      "needs_background": "light"
     },
     "output_type": "display_data"
    }
   ],
   "source": [
    "fn.plot_energy(df['temperature'],df['energy'], df['error en.'])"
   ]
  },
  {
   "cell_type": "code",
   "execution_count": 20,
   "id": "19410456-b473-4ccd-b774-63221e18ffcd",
   "metadata": {
    "tags": []
   },
   "outputs": [
    {
     "data": {
      "image/png": "[encoded data removed]",
      "text/plain": [
       "<Figure size 432x288 with 1 Axes>"
      ]
     },
     "metadata": {
      "needs_background": "light"
     },
     "output_type": "display_data"
    }
   ],
   "source": [
    "fn.plot_specific_heat(df['temperature'], df['spec. heat'], df['error spec. heat'])"
   ]
  },
  {
   "cell_type": "code",
   "execution_count": 21,
   "id": "386e19bb-f90c-4af8-ab82-e11c5b31a2c2",
   "metadata": {
    "tags": []
   },
   "outputs": [
    {
     "data": {
      "image/png": "[encoded data removed]",
      "text/plain": [
       "<Figure size 432x288 with 1 Axes>"
      ]
     },
     "metadata": {
      "needs_background": "light"
     },
     "output_type": "display_data"
    }
   ],
   "source": [
    "fn.plot_magnetic_susc(df['temperature'], df['magn. susc'], df['error magn. susc'])"
   ]
  },
  {
   "cell_type": "code",
   "execution_count": null,
   "id": "43ed95f9-23d8-4714-a9b0-d2db67be1388",
   "metadata": {},
   "outputs": [],
   "source": []
  }
 ],
 "metadata": {
  "kernelspec": {
   "display_name": "Python 3 (ipykernel)",
   "language": "python",
   "name": "python3"
  },
  "language_info": {
   "codemirror_mode": {
    "name": "ipython",
    "version": 3
   },
   "file_extension": ".py",
   "mimetype": "text/x-python",
   "name": "python",
   "nbconvert_exporter": "python",
   "pygments_lexer": "ipython3",
   "version": "3.11.2"
  }
 },
 "nbformat": 4,
 "nbformat_minor": 5
}
