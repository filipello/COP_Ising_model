{
 "cells": [
  {
   "cell_type": "code",
   "execution_count": 1,
   "metadata": {},
   "outputs": [],
   "source": [
    "import numpy as np\n",
    "import matplotlib.pyplot as plt"
   ]
  },
  {
   "cell_type": "code",
   "execution_count": null,
   "metadata": {},
   "outputs": [],
   "source": [
    "#create random initial spins in an NxN array?\n",
    "#Need to take into account the position of the spins\n",
    "\n",
    "#Pick one random spin and flip it\n",
    "#Calculate energy difference between the old and the new state\n",
    "#If E_new > E_old: keep new state\n",
    "#If E_new < E_old: calculate q = p(x')/p(x).\n",
    "#Draw random number: if random number lower than q: accept new state"
   ]
  },
  {
   "cell_type": "code",
   "execution_count": 206,
   "metadata": {},
   "outputs": [],
   "source": [
    "def spin(spin_value):\n",
    "    alignment = bool(spin_value)\n",
    "    if alignment == True:\n",
    "        s = 1\n",
    "    if alignment == False:\n",
    "        s = -1\n",
    "    return s\n",
    "\n",
    "def choose_flip(lattice, n_spins):\n",
    "    dim = len(lattice[0,:])\n",
    "    random_x = np.random.randint(0,n_spins)\n",
    "    random_y = np.random.randint(0,n_spins)\n",
    "    flip_lattice = -lattice[random_x, random_y]\n",
    "    lattice[random_x, random_y] = flip_lattice\n",
    "    return lattice, random_x, random_y\n",
    "\n",
    "def energy_difference(old_lattice, new_lattice):\n",
    "    delta_energy = total_hamiltonian(new_lattice) - total_hamiltonian(old_lattice)\n",
    "    return delta_energy\n",
    "\n",
    "# def total_hamiltonian(lattice, coupling_constant=1):\n",
    "#     dim = len(lattice[0,:])\n",
    "#     ham = 0\n",
    "#     #Now the same point is multiplied\n",
    "#     for i in range(dim):\n",
    "#         for j in range(dim):\n",
    "#             h = 0\n",
    "#             if j != i and np.abs(j-i)==1:\n",
    "#                 h = lattice[i,j]*lattice[i,j]\n",
    "#             ham += h\n",
    "#     total_ham = -coupling_constant*ham\n",
    "#     return total_ham\n",
    "\n",
    "def total_hamiltonian(lattice, coupling_constant=1):\n",
    "    n_spins = 10\n",
    "    L = n_spins\n",
    "    dim = len(lattice[0,:])\n",
    "    ham = 0\n",
    "    for i in range(dim):\n",
    "        for j in range(dim):\n",
    "            h = 0\n",
    "            h = lattice[i,j]*lattice[(i-1)%L,j-1] + lattice[i,j]*lattice[(i-1)%L,(j+1)%L] + lattice[i,j]*lattice[(i+1)%L,(j+1)%L] + lattice[i,j]*lattice[(i+1)%L,(j-1)%L]\n",
    "            ham += h\n",
    "    total_ham = -coupling_constant*ham\n",
    "    print(total_ham)\n",
    "    return total_ham\n",
    "\n",
    "def accept_new_state(en_diff, beta):\n",
    "    if en_diff > 0:\n",
    "        accept_state = True\n",
    "    if en_diff < 0:\n",
    "        accept_prob = np.exp(beta*en_diff)\n",
    "        random_number = np.random.uniform(0,1)\n",
    "        if random_number < accept_prob:\n",
    "            accept_state = True\n",
    "        else:\n",
    "            accept_state = False\n",
    "    return accept_state\n",
    "\n",
    "def total_energy(accept_state, system_energy, en_diff):\n",
    "    if accept_new_state = True:\n",
    "        new_energy = system_energy+en_diff\n",
    "        system_energy.append(new_energy)\n",
    "    return system_energy\n",
    "\n",
    "def total_magnetisation(accept_state, new_lattice):\n",
    "    if accept_new_state = True:\n",
    "        system_magnetisation.append(np.sum(new_lattice))\n",
    "    return system_magnetisation\n",
    "    \n",
    "def initial_spins(N):\n",
    "    lattice = np.zeros((N, N))\n",
    "    for i in range(N):\n",
    "        for j in range(N):\n",
    "            random_spin = np.random.randint(0,2)\n",
    "            spin_value = spin(random_spin)\n",
    "            lattice[i,j] = spin_value\n",
    "    \n",
    "    return lattice"
   ]
  },
  {
   "cell_type": "code",
   "execution_count": 249,
   "metadata": {},
   "outputs": [
    {
     "name": "stdout",
     "output_type": "stream",
     "text": [
      "[[ 1. -1. -1. -1. -1. -1.  1. -1.  1. -1.]\n",
      " [-1. -1.  1. -1.  1. -1.  1. -1.  1. -1.]\n",
      " [-1. -1.  1. -1.  1.  1. -1.  1. -1. -1.]\n",
      " [-1.  1. -1.  1.  1.  1. -1.  1.  1. -1.]\n",
      " [ 1. -1.  1. -1.  1. -1. -1. -1. -1. -1.]\n",
      " [ 1. -1. -1.  1.  1.  1.  1.  1. -1. -1.]\n",
      " [-1. -1. -1. -1.  1. -1. -1.  1. -1. -1.]\n",
      " [ 1.  1.  1. -1.  1.  1. -1. -1.  1. -1.]\n",
      " [ 1. -1.  1.  1.  1. -1. -1.  1.  1. -1.]\n",
      " [ 1.  1. -1.  1.  1. -1.  1. -1.  1. -1.]]\n"
     ]
    }
   ],
   "source": [
    "#Define constants\n",
    "n_spins = 10\n",
    "coupling_constant = 1\n",
    "temperature = 1\n",
    "beta = 1/temperature\n",
    "\n",
    "#Define initial spins in lattice, magnetisation, and energy\n",
    "def initial_system(n_spins)\n",
    "    init_lattice = initial_spins(n_spins)\n",
    "    #print(init_lattice)\n",
    "    system_energy = [total_hamiltonian(init_lattice)]\n",
    "    system_magnetisation = [np.sum(init_lattice)]\n",
    "    return init_lattice, system_energy, system_magnetisation"
   ]
  },
  {
   "cell_type": "code",
   "execution_count": 248,
   "metadata": {},
   "outputs": [
    {
     "name": "stdout",
     "output_type": "stream",
     "text": [
      "5\n",
      "9\n",
      "-48.0\n",
      "-32.0\n",
      "-16.0\n"
     ]
    }
   ],
   "source": [
    "#Flip a spin\n",
    "new_state = choose_flip(init_lattice, n_spins)\n",
    "new_lattice = new_state[0]\n",
    "print(new_state[1])\n",
    "print(new_state[2])\n",
    "\n",
    "#calculate energy difference\n",
    "en_diff = energy_difference(init_lattice, new_lattice)\n",
    "print(en_diff)"
   ]
  },
  {
   "cell_type": "code",
   "execution_count": null,
   "metadata": {},
   "outputs": [],
   "source": [
    "#See if en diff is greater/smaller\n",
    "#accept_new_state function\n",
    "#total_energy function\n",
    "#total_magnetisation function"
   ]
  },
  {
   "cell_type": "code",
   "execution_count": null,
   "metadata": {},
   "outputs": [],
   "source": [
    "#Do it again:\n",
    "#choose_flip etc"
   ]
  },
  {
   "cell_type": "code",
   "execution_count": null,
   "metadata": {},
   "outputs": [],
   "source": [
    "def ising_simulation(init_lattice, n_spins)\n",
    "    for i in range(2):\n",
    "        new_state = choose_flip(init_lattice, n_spins)\n",
    "        new_lattice = new_state[0]\n",
    "        en_diff = energy_difference(init_lattice, new_lattice)"
   ]
  }
 ],
 "metadata": {
  "kernelspec": {
   "display_name": "Python 3",
   "language": "python",
   "name": "python3"
  },
  "language_info": {
   "codemirror_mode": {
    "name": "ipython",
    "version": 3
   },
   "file_extension": ".py",
   "mimetype": "text/x-python",
   "name": "python",
   "nbconvert_exporter": "python",
   "pygments_lexer": "ipython3",
   "version": "3.7.3"
  }
 },
 "nbformat": 4,
 "nbformat_minor": 2
}
